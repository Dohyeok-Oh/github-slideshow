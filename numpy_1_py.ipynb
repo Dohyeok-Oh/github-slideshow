{
  "nbformat": 4,
  "nbformat_minor": 0,
  "metadata": {
    "colab": {
      "name": "numpy_1.py",
      "provenance": [],
      "collapsed_sections": [],
      "authorship_tag": "ABX9TyM9dyjPQoXmdFSmtX+PMmUj",
      "include_colab_link": true
    },
    "kernelspec": {
      "name": "python3",
      "display_name": "Python 3"
    },
    "language_info": {
      "name": "python"
    }
  },
  "cells": [
    {
      "cell_type": "markdown",
      "metadata": {
        "id": "view-in-github",
        "colab_type": "text"
      },
      "source": [
        "<a href=\"https://colab.research.google.com/github/Dohyeok-Oh/github-slideshow/blob/master/numpy_1_py.ipynb\" target=\"_parent\"><img src=\"https://colab.research.google.com/assets/colab-badge.svg\" alt=\"Open In Colab\"/></a>"
      ]
    },
    {
      "cell_type": "code",
      "metadata": {
        "id": "Maa8I-PclXu0"
      },
      "source": [
        "import numpy as np"
      ],
      "execution_count": null,
      "outputs": []
    },
    {
      "cell_type": "code",
      "metadata": {
        "colab": {
          "base_uri": "https://localhost:8080/"
        },
        "id": "uanFPz4hlo8r",
        "outputId": "cd5649c3-3f3b-49fb-db2e-421b36c825c6"
      },
      "source": [
        "list = [[1,2,3],[4,5,6],[7,8,9]]\n",
        "\n",
        "arr = np.array(list)\n",
        "a = arr[0:2, 0:2]\n",
        "print(a)"
      ],
      "execution_count": null,
      "outputs": [
        {
          "output_type": "stream",
          "text": [
            "[[1 2]\n",
            " [4 5]]\n"
          ],
          "name": "stdout"
        }
      ]
    },
    {
      "cell_type": "code",
      "metadata": {
        "colab": {
          "base_uri": "https://localhost:8080/"
        },
        "id": "PhzlhqbLScCL",
        "outputId": "6e09d474-54c8-44b2-8bf0-3a661b46784c"
      },
      "source": [
        "import numpy as np\n",
        "\n",
        "a = np.array([1,2,3])\n",
        "b = np.array([4,5,6])\n",
        "\n",
        "c = np.add(a,b)\n",
        "print(c) "
      ],
      "execution_count": null,
      "outputs": [
        {
          "output_type": "stream",
          "text": [
            "[5 7 9]\n"
          ],
          "name": "stdout"
        }
      ]
    },
    {
      "cell_type": "code",
      "metadata": {
        "colab": {
          "base_uri": "https://localhost:8080/"
        },
        "id": "osy3_kpbcbUD",
        "outputId": "f367b4f5-f3fa-4496-da73-da5699c89ce8"
      },
      "source": [
        "list1 = [[1,2], [3,4]]\n",
        "list2 = [[5,6], [7,8]]\n",
        "\n",
        "a = np.array(list1)\n",
        "b = np.array(list2)\n",
        "\n",
        "product = np.dot(a,b)\n",
        "\n",
        "print(product)\n"
      ],
      "execution_count": null,
      "outputs": [
        {
          "output_type": "stream",
          "text": [
            "[[19 22]\n",
            " [43 50]]\n"
          ],
          "name": "stdout"
        }
      ]
    },
    {
      "cell_type": "code",
      "metadata": {
        "colab": {
          "base_uri": "https://localhost:8080/"
        },
        "id": "hA6oe4j7dPdz",
        "outputId": "9c5e9e37-606c-4c61-fd32-2493fe72432d"
      },
      "source": [
        "import numpy as np\n",
        "\n",
        "a = np.array([[1, 2], [3, 4]])\n",
        "s = np.sum(a)\n",
        "print(s)\n",
        "\n",
        "c = np.sum(a, axis=1)\n",
        "print(c)\n"
      ],
      "execution_count": null,
      "outputs": [
        {
          "output_type": "stream",
          "text": [
            "10\n",
            "[3 7]\n"
          ],
          "name": "stdout"
        }
      ]
    }
  ]
}